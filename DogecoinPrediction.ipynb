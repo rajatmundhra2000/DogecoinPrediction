{
  "nbformat": 4,
  "nbformat_minor": 0,
  "metadata": {
    "colab": {
      "name": "DogecoinPrediction.ipynb",
      "provenance": [],
      "collapsed_sections": []
    },
    "kernelspec": {
      "name": "python3",
      "display_name": "Python 3"
    },
    "language_info": {
      "name": "python"
    }
  },
  "cells": [
    {
      "cell_type": "markdown",
      "metadata": {
        "id": "yv7D6GCQL7Pf"
      },
      "source": [
        "##**Problem Definition**:\n",
        "> To predict the Dogecoin value based on the historical data "
      ]
    },
    {
      "cell_type": "markdown",
      "metadata": {
        "id": "G-5IHNavf6ci"
      },
      "source": [
        "##**Data:**\n",
        "> This dataset contains past values of Dogecoin in Dollars with a time bound of 13th May , 2020 to 13th May , 2021.\n",
        "\n",
        "The data is collected from [Investing.com](https://in.investing.com/crypto/dogecoin/historical-data) \n",
        "\n",
        "\n"
      ]
    },
    {
      "cell_type": "markdown",
      "metadata": {
        "id": "4SUgGwV9hzVY"
      },
      "source": [
        "##**Evaluation**:\n",
        "> As the value of Dogecoin is very volatile , we will continue the project once we reach close to **90**% accuracy , we will pursue the project"
      ]
    },
    {
      "cell_type": "markdown",
      "metadata": {
        "id": "zKB9nsR4gXbh"
      },
      "source": [
        "##**Features:**\n",
        "\n",
        "The following are the features we will use to predict our target variable (Price of the Dogecoin)\n",
        "*   Date : Current Date\n",
        "*Price : Price at the time of Data colection in Dollars\n",
        "*Open   : Opening Price in Dollars\n",
        "*Close  : CLosing Price in Dollars\n",
        "*High : Highest price of the day in Dollars\n",
        "*Low : Lowest Price of the day in Dollars\n",
        "*Vol : Volume traded\n",
        "*% Change : Percentage change in value\n",
        "   \n",
        "\n"
      ]
    },
    {
      "cell_type": "markdown",
      "metadata": {
        "id": "wqJXuPG1jFQY"
      },
      "source": [
        "###Mounting Drive"
      ]
    },
    {
      "cell_type": "code",
      "metadata": {
        "colab": {
          "base_uri": "https://localhost:8080/"
        },
        "id": "_iHOQoZnIpH5",
        "outputId": "d4b76e96-2bd7-476b-c6e7-6afde1766241"
      },
      "source": [
        "from google.colab import drive\n",
        "drive.mount('/content/drive')"
      ],
      "execution_count": 1,
      "outputs": [
        {
          "output_type": "stream",
          "text": [
            "Drive already mounted at /content/drive; to attempt to forcibly remount, call drive.mount(\"/content/drive\", force_remount=True).\n"
          ],
          "name": "stdout"
        }
      ]
    },
    {
      "cell_type": "markdown",
      "metadata": {
        "id": "pJbP3AShjLSL"
      },
      "source": [
        "###Importing Libraries"
      ]
    },
    {
      "cell_type": "code",
      "metadata": {
        "id": "xYwoQEeIX56G"
      },
      "source": [
        "import pandas as pd\n",
        "import numpy as np\n",
        "import matplotlib.pyplot as plt\n",
        "import seaborn as sns"
      ],
      "execution_count": 2,
      "outputs": []
    },
    {
      "cell_type": "code",
      "metadata": {
        "id": "lsjadnw1XJph"
      },
      "source": [
        "data=pd.read_csv('/content/drive/MyDrive/Colab Notebooks/Dogecoin/Dogecoin Historical Data - Investing.com India (1).csv')"
      ],
      "execution_count": 3,
      "outputs": []
    },
    {
      "cell_type": "code",
      "metadata": {
        "colab": {
          "base_uri": "https://localhost:8080/",
          "height": 0
        },
        "id": "MLoBXv4MX3Wx",
        "outputId": "c132ce6a-7376-4f28-ca30-1328f560d5d1"
      },
      "source": [
        "data.head()"
      ],
      "execution_count": 4,
      "outputs": [
        {
          "output_type": "execute_result",
          "data": {
            "text/html": [
              "<div>\n",
              "<style scoped>\n",
              "    .dataframe tbody tr th:only-of-type {\n",
              "        vertical-align: middle;\n",
              "    }\n",
              "\n",
              "    .dataframe tbody tr th {\n",
              "        vertical-align: top;\n",
              "    }\n",
              "\n",
              "    .dataframe thead th {\n",
              "        text-align: right;\n",
              "    }\n",
              "</style>\n",
              "<table border=\"1\" class=\"dataframe\">\n",
              "  <thead>\n",
              "    <tr style=\"text-align: right;\">\n",
              "      <th></th>\n",
              "      <th>Date</th>\n",
              "      <th>Price</th>\n",
              "      <th>Open</th>\n",
              "      <th>Close</th>\n",
              "      <th>High</th>\n",
              "      <th>Low</th>\n",
              "      <th>Vol.</th>\n",
              "      <th>Change %</th>\n",
              "    </tr>\n",
              "  </thead>\n",
              "  <tbody>\n",
              "    <tr>\n",
              "      <th>0</th>\n",
              "      <td>May 13, 2021</td>\n",
              "      <td>0.395028</td>\n",
              "      <td>0.389257</td>\n",
              "      <td>0.493226</td>\n",
              "      <td>0.452448</td>\n",
              "      <td>0.353838</td>\n",
              "      <td>11.74B</td>\n",
              "      <td>1.51%</td>\n",
              "    </tr>\n",
              "    <tr>\n",
              "      <th>1</th>\n",
              "      <td>May 12, 2021</td>\n",
              "      <td>0.389159</td>\n",
              "      <td>0.493226</td>\n",
              "      <td>0.449956</td>\n",
              "      <td>0.519039</td>\n",
              "      <td>0.385839</td>\n",
              "      <td>8.60B</td>\n",
              "      <td>-21.10%</td>\n",
              "    </tr>\n",
              "    <tr>\n",
              "      <th>2</th>\n",
              "      <td>May 11, 2021</td>\n",
              "      <td>0.493231</td>\n",
              "      <td>0.449956</td>\n",
              "      <td>0.568689</td>\n",
              "      <td>0.544636</td>\n",
              "      <td>0.442940</td>\n",
              "      <td>12.46B</td>\n",
              "      <td>9.61%</td>\n",
              "    </tr>\n",
              "    <tr>\n",
              "      <th>3</th>\n",
              "      <td>May 10, 2021</td>\n",
              "      <td>0.449977</td>\n",
              "      <td>0.568689</td>\n",
              "      <td>0.635330</td>\n",
              "      <td>0.568689</td>\n",
              "      <td>0.422392</td>\n",
              "      <td>15.36B</td>\n",
              "      <td>-20.87%</td>\n",
              "    </tr>\n",
              "    <tr>\n",
              "      <th>4</th>\n",
              "      <td>May 09, 2021</td>\n",
              "      <td>0.568682</td>\n",
              "      <td>0.635330</td>\n",
              "      <td>0.686914</td>\n",
              "      <td>0.697487</td>\n",
              "      <td>0.423602</td>\n",
              "      <td>37.25B</td>\n",
              "      <td>-10.36%</td>\n",
              "    </tr>\n",
              "  </tbody>\n",
              "</table>\n",
              "</div>"
            ],
            "text/plain": [
              "           Date     Price      Open  ...       Low    Vol.  Change %\n",
              "0  May 13, 2021  0.395028  0.389257  ...  0.353838  11.74B     1.51%\n",
              "1  May 12, 2021  0.389159  0.493226  ...  0.385839   8.60B   -21.10%\n",
              "2  May 11, 2021  0.493231  0.449956  ...  0.442940  12.46B     9.61%\n",
              "3  May 10, 2021  0.449977  0.568689  ...  0.422392  15.36B   -20.87%\n",
              "4  May 09, 2021  0.568682  0.635330  ...  0.423602  37.25B   -10.36%\n",
              "\n",
              "[5 rows x 8 columns]"
            ]
          },
          "metadata": {
            "tags": []
          },
          "execution_count": 4
        }
      ]
    },
    {
      "cell_type": "code",
      "metadata": {
        "colab": {
          "base_uri": "https://localhost:8080/"
        },
        "id": "YZco8qgSjvNS",
        "outputId": "f5c41f2c-3a7f-45e9-f24e-6e264b8a49b6"
      },
      "source": [
        "data.shape"
      ],
      "execution_count": 5,
      "outputs": [
        {
          "output_type": "execute_result",
          "data": {
            "text/plain": [
              "(366, 8)"
            ]
          },
          "metadata": {
            "tags": []
          },
          "execution_count": 5
        }
      ]
    },
    {
      "cell_type": "code",
      "metadata": {
        "colab": {
          "base_uri": "https://localhost:8080/"
        },
        "id": "a50eENv_Y1GD",
        "outputId": "887d58e7-6c34-4ee8-e315-0d97c972a099"
      },
      "source": [
        "data.isna().sum()"
      ],
      "execution_count": 6,
      "outputs": [
        {
          "output_type": "execute_result",
          "data": {
            "text/plain": [
              "Date        0\n",
              "Price       0\n",
              "Open        0\n",
              "Close       1\n",
              "High        0\n",
              "Low         0\n",
              "Vol.        0\n",
              "Change %    0\n",
              "dtype: int64"
            ]
          },
          "metadata": {
            "tags": []
          },
          "execution_count": 6
        }
      ]
    },
    {
      "cell_type": "code",
      "metadata": {
        "id": "iXhRgicazDLO"
      },
      "source": [
        "data = data.sort_values(by=\"Date\")"
      ],
      "execution_count": 7,
      "outputs": []
    },
    {
      "cell_type": "code",
      "metadata": {
        "colab": {
          "base_uri": "https://localhost:8080/",
          "height": 0
        },
        "id": "IbyBDj3XjI5y",
        "outputId": "e64cfe62-5ac0-47f9-a6c3-8b07dc735f59"
      },
      "source": [
        "data.head()"
      ],
      "execution_count": 8,
      "outputs": [
        {
          "output_type": "execute_result",
          "data": {
            "text/html": [
              "<div>\n",
              "<style scoped>\n",
              "    .dataframe tbody tr th:only-of-type {\n",
              "        vertical-align: middle;\n",
              "    }\n",
              "\n",
              "    .dataframe tbody tr th {\n",
              "        vertical-align: top;\n",
              "    }\n",
              "\n",
              "    .dataframe thead th {\n",
              "        text-align: right;\n",
              "    }\n",
              "</style>\n",
              "<table border=\"1\" class=\"dataframe\">\n",
              "  <thead>\n",
              "    <tr style=\"text-align: right;\">\n",
              "      <th></th>\n",
              "      <th>Date</th>\n",
              "      <th>Price</th>\n",
              "      <th>Open</th>\n",
              "      <th>Close</th>\n",
              "      <th>High</th>\n",
              "      <th>Low</th>\n",
              "      <th>Vol.</th>\n",
              "      <th>Change %</th>\n",
              "    </tr>\n",
              "  </thead>\n",
              "  <tbody>\n",
              "    <tr>\n",
              "      <th>42</th>\n",
              "      <td>Apr 01, 2021</td>\n",
              "      <td>0.062113</td>\n",
              "      <td>0.053742</td>\n",
              "      <td>0.054026</td>\n",
              "      <td>0.070722</td>\n",
              "      <td>0.053723</td>\n",
              "      <td>26.14B</td>\n",
              "      <td>15.57%</td>\n",
              "    </tr>\n",
              "    <tr>\n",
              "      <th>41</th>\n",
              "      <td>Apr 02, 2021</td>\n",
              "      <td>0.057570</td>\n",
              "      <td>0.062093</td>\n",
              "      <td>0.053742</td>\n",
              "      <td>0.062794</td>\n",
              "      <td>0.057285</td>\n",
              "      <td>8.10B</td>\n",
              "      <td>-7.31%</td>\n",
              "    </tr>\n",
              "    <tr>\n",
              "      <th>40</th>\n",
              "      <td>Apr 03, 2021</td>\n",
              "      <td>0.055554</td>\n",
              "      <td>0.057567</td>\n",
              "      <td>0.062093</td>\n",
              "      <td>0.059440</td>\n",
              "      <td>0.055553</td>\n",
              "      <td>4.08B</td>\n",
              "      <td>-3.50%</td>\n",
              "    </tr>\n",
              "    <tr>\n",
              "      <th>39</th>\n",
              "      <td>Apr 04, 2021</td>\n",
              "      <td>0.057401</td>\n",
              "      <td>0.055542</td>\n",
              "      <td>0.057567</td>\n",
              "      <td>0.058122</td>\n",
              "      <td>0.055121</td>\n",
              "      <td>3.28B</td>\n",
              "      <td>3.32%</td>\n",
              "    </tr>\n",
              "    <tr>\n",
              "      <th>38</th>\n",
              "      <td>Apr 05, 2021</td>\n",
              "      <td>0.059948</td>\n",
              "      <td>0.057393</td>\n",
              "      <td>0.055542</td>\n",
              "      <td>0.060593</td>\n",
              "      <td>0.056318</td>\n",
              "      <td>5.22B</td>\n",
              "      <td>4.44%</td>\n",
              "    </tr>\n",
              "  </tbody>\n",
              "</table>\n",
              "</div>"
            ],
            "text/plain": [
              "            Date     Price      Open  ...       Low    Vol.  Change %\n",
              "42  Apr 01, 2021  0.062113  0.053742  ...  0.053723  26.14B    15.57%\n",
              "41  Apr 02, 2021  0.057570  0.062093  ...  0.057285   8.10B    -7.31%\n",
              "40  Apr 03, 2021  0.055554  0.057567  ...  0.055553   4.08B    -3.50%\n",
              "39  Apr 04, 2021  0.057401  0.055542  ...  0.055121   3.28B     3.32%\n",
              "38  Apr 05, 2021  0.059948  0.057393  ...  0.056318   5.22B     4.44%\n",
              "\n",
              "[5 rows x 8 columns]"
            ]
          },
          "metadata": {
            "tags": []
          },
          "execution_count": 8
        }
      ]
    },
    {
      "cell_type": "code",
      "metadata": {
        "colab": {
          "base_uri": "https://localhost:8080/",
          "height": 0
        },
        "id": "SpSMgjGSyq4X",
        "outputId": "9a166bd6-d2b4-4c32-fbd5-932ca4745ea2"
      },
      "source": [
        "sns.lineplot(data=data,x=data['Date'],y=data['Open'])\n",
        "plt.xticks(\" \")"
      ],
      "execution_count": 9,
      "outputs": [
        {
          "output_type": "execute_result",
          "data": {
            "text/plain": [
              "([<matplotlib.axis.XTick at 0x7f37f4988490>],\n",
              " <a list of 1 Text major ticklabel objects>)"
            ]
          },
          "metadata": {
            "tags": []
          },
          "execution_count": 9
        },
        {
          "output_type": "display_data",
          "data": {
            "image/png": "[encoded data removed]",
            "text/plain": [
              "<Figure size 432x288 with 1 Axes>"
            ]
          },
          "metadata": {
            "tags": [],
            "needs_background": "light"
          }
        }
      ]
    },
    {
      "cell_type": "code",
      "metadata": {
        "colab": {
          "base_uri": "https://localhost:8080/",
          "height": 0
        },
        "id": "Vwp5tOI6kUCe",
        "outputId": "cd990820-e266-49eb-a60c-fcdec4b0dce0"
      },
      "source": [
        "sns.heatmap(data.corr(),linewidths=.5,annot=True, fmt=\"f\")"
      ],
      "execution_count": 10,
      "outputs": [
        {
          "output_type": "execute_result",
          "data": {
            "text/plain": [
              "<matplotlib.axes._subplots.AxesSubplot at 0x7f37f3ee3f50>"
            ]
          },
          "metadata": {
            "tags": []
          },
          "execution_count": 10
        },
        {
          "output_type": "display_data",
          "data": {
            "image/png": "[encoded data removed]",
            "text/plain": [
              "<Figure size 432x288 with 2 Axes>"
            ]
          },
          "metadata": {
            "tags": [],
            "needs_background": "light"
          }
        }
      ]
    },
    {
      "cell_type": "code",
      "metadata": {
        "id": "RcMarX4LjQ8p"
      },
      "source": [
        "data=data.set_index(pd.DatetimeIndex(data['Date'].values))"
      ],
      "execution_count": 11,
      "outputs": []
    },
    {
      "cell_type": "code",
      "metadata": {
        "colab": {
          "base_uri": "https://localhost:8080/",
          "height": 0
        },
        "id": "hDrk5ZS4mK6i",
        "outputId": "8c641f81-fbc8-49ab-8130-f8ed9cf28ed0"
      },
      "source": [
        "data.head()"
      ],
      "execution_count": 12,
      "outputs": [
        {
          "output_type": "execute_result",
          "data": {
            "text/html": [
              "<div>\n",
              "<style scoped>\n",
              "    .dataframe tbody tr th:only-of-type {\n",
              "        vertical-align: middle;\n",
              "    }\n",
              "\n",
              "    .dataframe tbody tr th {\n",
              "        vertical-align: top;\n",
              "    }\n",
              "\n",
              "    .dataframe thead th {\n",
              "        text-align: right;\n",
              "    }\n",
              "</style>\n",
              "<table border=\"1\" class=\"dataframe\">\n",
              "  <thead>\n",
              "    <tr style=\"text-align: right;\">\n",
              "      <th></th>\n",
              "      <th>Date</th>\n",
              "      <th>Price</th>\n",
              "      <th>Open</th>\n",
              "      <th>Close</th>\n",
              "      <th>High</th>\n",
              "      <th>Low</th>\n",
              "      <th>Vol.</th>\n",
              "      <th>Change %</th>\n",
              "    </tr>\n",
              "  </thead>\n",
              "  <tbody>\n",
              "    <tr>\n",
              "      <th>2021-04-01</th>\n",
              "      <td>Apr 01, 2021</td>\n",
              "      <td>0.062113</td>\n",
              "      <td>0.053742</td>\n",
              "      <td>0.054026</td>\n",
              "      <td>0.070722</td>\n",
              "      <td>0.053723</td>\n",
              "      <td>26.14B</td>\n",
              "      <td>15.57%</td>\n",
              "    </tr>\n",
              "    <tr>\n",
              "      <th>2021-04-02</th>\n",
              "      <td>Apr 02, 2021</td>\n",
              "      <td>0.057570</td>\n",
              "      <td>0.062093</td>\n",
              "      <td>0.053742</td>\n",
              "      <td>0.062794</td>\n",
              "      <td>0.057285</td>\n",
              "      <td>8.10B</td>\n",
              "      <td>-7.31%</td>\n",
              "    </tr>\n",
              "    <tr>\n",
              "      <th>2021-04-03</th>\n",
              "      <td>Apr 03, 2021</td>\n",
              "      <td>0.055554</td>\n",
              "      <td>0.057567</td>\n",
              "      <td>0.062093</td>\n",
              "      <td>0.059440</td>\n",
              "      <td>0.055553</td>\n",
              "      <td>4.08B</td>\n",
              "      <td>-3.50%</td>\n",
              "    </tr>\n",
              "    <tr>\n",
              "      <th>2021-04-04</th>\n",
              "      <td>Apr 04, 2021</td>\n",
              "      <td>0.057401</td>\n",
              "      <td>0.055542</td>\n",
              "      <td>0.057567</td>\n",
              "      <td>0.058122</td>\n",
              "      <td>0.055121</td>\n",
              "      <td>3.28B</td>\n",
              "      <td>3.32%</td>\n",
              "    </tr>\n",
              "    <tr>\n",
              "      <th>2021-04-05</th>\n",
              "      <td>Apr 05, 2021</td>\n",
              "      <td>0.059948</td>\n",
              "      <td>0.057393</td>\n",
              "      <td>0.055542</td>\n",
              "      <td>0.060593</td>\n",
              "      <td>0.056318</td>\n",
              "      <td>5.22B</td>\n",
              "      <td>4.44%</td>\n",
              "    </tr>\n",
              "  </tbody>\n",
              "</table>\n",
              "</div>"
            ],
            "text/plain": [
              "                    Date     Price      Open  ...       Low    Vol.  Change %\n",
              "2021-04-01  Apr 01, 2021  0.062113  0.053742  ...  0.053723  26.14B    15.57%\n",
              "2021-04-02  Apr 02, 2021  0.057570  0.062093  ...  0.057285   8.10B    -7.31%\n",
              "2021-04-03  Apr 03, 2021  0.055554  0.057567  ...  0.055553   4.08B    -3.50%\n",
              "2021-04-04  Apr 04, 2021  0.057401  0.055542  ...  0.055121   3.28B     3.32%\n",
              "2021-04-05  Apr 05, 2021  0.059948  0.057393  ...  0.056318   5.22B     4.44%\n",
              "\n",
              "[5 rows x 8 columns]"
            ]
          },
          "metadata": {
            "tags": []
          },
          "execution_count": 12
        }
      ]
    },
    {
      "cell_type": "code",
      "metadata": {
        "id": "i9qMdCFwmSNw"
      },
      "source": [
        "data=data[['Close']]"
      ],
      "execution_count": 13,
      "outputs": []
    },
    {
      "cell_type": "code",
      "metadata": {
        "colab": {
          "base_uri": "https://localhost:8080/",
          "height": 0
        },
        "id": "7p5FTOxtwPkc",
        "outputId": "d1edaedc-58da-4152-a1ed-701f5dd018bc"
      },
      "source": [
        "data.head()"
      ],
      "execution_count": 14,
      "outputs": [
        {
          "output_type": "execute_result",
          "data": {
            "text/html": [
              "<div>\n",
              "<style scoped>\n",
              "    .dataframe tbody tr th:only-of-type {\n",
              "        vertical-align: middle;\n",
              "    }\n",
              "\n",
              "    .dataframe tbody tr th {\n",
              "        vertical-align: top;\n",
              "    }\n",
              "\n",
              "    .dataframe thead th {\n",
              "        text-align: right;\n",
              "    }\n",
              "</style>\n",
              "<table border=\"1\" class=\"dataframe\">\n",
              "  <thead>\n",
              "    <tr style=\"text-align: right;\">\n",
              "      <th></th>\n",
              "      <th>Close</th>\n",
              "    </tr>\n",
              "  </thead>\n",
              "  <tbody>\n",
              "    <tr>\n",
              "      <th>2021-04-01</th>\n",
              "      <td>0.054026</td>\n",
              "    </tr>\n",
              "    <tr>\n",
              "      <th>2021-04-02</th>\n",
              "      <td>0.053742</td>\n",
              "    </tr>\n",
              "    <tr>\n",
              "      <th>2021-04-03</th>\n",
              "      <td>0.062093</td>\n",
              "    </tr>\n",
              "    <tr>\n",
              "      <th>2021-04-04</th>\n",
              "      <td>0.057567</td>\n",
              "    </tr>\n",
              "    <tr>\n",
              "      <th>2021-04-05</th>\n",
              "      <td>0.055542</td>\n",
              "    </tr>\n",
              "  </tbody>\n",
              "</table>\n",
              "</div>"
            ],
            "text/plain": [
              "               Close\n",
              "2021-04-01  0.054026\n",
              "2021-04-02  0.053742\n",
              "2021-04-03  0.062093\n",
              "2021-04-04  0.057567\n",
              "2021-04-05  0.055542"
            ]
          },
          "metadata": {
            "tags": []
          },
          "execution_count": 14
        }
      ]
    },
    {
      "cell_type": "code",
      "metadata": {
        "id": "53uX3D_IwQ0z",
        "colab": {
          "base_uri": "https://localhost:8080/",
          "height": 0
        },
        "outputId": "d14e1abc-2410-4b31-a340-268084180d5e"
      },
      "source": [
        "prediction_days=1\n",
        "data['Prediction']=data[['Close']].shift(-prediction_days)\n",
        "data.head()"
      ],
      "execution_count": 15,
      "outputs": [
        {
          "output_type": "execute_result",
          "data": {
            "text/html": [
              "<div>\n",
              "<style scoped>\n",
              "    .dataframe tbody tr th:only-of-type {\n",
              "        vertical-align: middle;\n",
              "    }\n",
              "\n",
              "    .dataframe tbody tr th {\n",
              "        vertical-align: top;\n",
              "    }\n",
              "\n",
              "    .dataframe thead th {\n",
              "        text-align: right;\n",
              "    }\n",
              "</style>\n",
              "<table border=\"1\" class=\"dataframe\">\n",
              "  <thead>\n",
              "    <tr style=\"text-align: right;\">\n",
              "      <th></th>\n",
              "      <th>Close</th>\n",
              "      <th>Prediction</th>\n",
              "    </tr>\n",
              "  </thead>\n",
              "  <tbody>\n",
              "    <tr>\n",
              "      <th>2021-04-01</th>\n",
              "      <td>0.054026</td>\n",
              "      <td>0.053742</td>\n",
              "    </tr>\n",
              "    <tr>\n",
              "      <th>2021-04-02</th>\n",
              "      <td>0.053742</td>\n",
              "      <td>0.062093</td>\n",
              "    </tr>\n",
              "    <tr>\n",
              "      <th>2021-04-03</th>\n",
              "      <td>0.062093</td>\n",
              "      <td>0.057567</td>\n",
              "    </tr>\n",
              "    <tr>\n",
              "      <th>2021-04-04</th>\n",
              "      <td>0.057567</td>\n",
              "      <td>0.055542</td>\n",
              "    </tr>\n",
              "    <tr>\n",
              "      <th>2021-04-05</th>\n",
              "      <td>0.055542</td>\n",
              "      <td>0.057393</td>\n",
              "    </tr>\n",
              "  </tbody>\n",
              "</table>\n",
              "</div>"
            ],
            "text/plain": [
              "               Close  Prediction\n",
              "2021-04-01  0.054026    0.053742\n",
              "2021-04-02  0.053742    0.062093\n",
              "2021-04-03  0.062093    0.057567\n",
              "2021-04-04  0.057567    0.055542\n",
              "2021-04-05  0.055542    0.057393"
            ]
          },
          "metadata": {
            "tags": []
          },
          "execution_count": 15
        }
      ]
    },
    {
      "cell_type": "code",
      "metadata": {
        "id": "LeqM6tkayBBa"
      },
      "source": [
        "data['Prediction']=data['Prediction'].fillna(0)\n",
        "data['Close']=data['Close'].fillna(0)"
      ],
      "execution_count": 16,
      "outputs": []
    },
    {
      "cell_type": "code",
      "metadata": {
        "colab": {
          "base_uri": "https://localhost:8080/"
        },
        "id": "0op5YvdYOfQS",
        "outputId": "9e32b0fa-c0fb-4d59-886c-2e450bc30258"
      },
      "source": [
        "X=np.array(data.drop(['Prediction'],axis=1))\n",
        "X"
      ],
      "execution_count": 17,
      "outputs": [
        {
          "output_type": "execute_result",
          "data": {
            "text/plain": [
              "array([[0.054026],\n",
              "       [0.053742],\n",
              "       [0.062093],\n",
              "       [0.057567],\n",
              "       [0.055542],\n",
              "       [0.057393],\n",
              "       [0.059921],\n",
              "       [0.064281],\n",
              "       [0.05873 ],\n",
              "       [0.061754],\n",
              "       [0.061605],\n",
              "       [0.06368 ],\n",
              "       [0.074205],\n",
              "       [0.070709],\n",
              "       [0.09425 ],\n",
              "       [0.121275],\n",
              "       [0.182628],\n",
              "       [0.365389],\n",
              "       [0.282723],\n",
              "       [0.322197],\n",
              "       [0.407451],\n",
              "       [0.317922],\n",
              "       [0.305718],\n",
              "       [0.2608  ],\n",
              "       [0.24879 ],\n",
              "       [0.269932],\n",
              "       [0.251192],\n",
              "       [0.270118],\n",
              "       [0.270696],\n",
              "       [0.323591],\n",
              "       [0.003227],\n",
              "       [0.003224],\n",
              "       [0.003713],\n",
              "       [0.003333],\n",
              "       [0.003372],\n",
              "       [0.003549],\n",
              "       [0.003501],\n",
              "       [0.003559],\n",
              "       [0.003531],\n",
              "       [0.003514],\n",
              "       [0.003468],\n",
              "       [0.003495],\n",
              "       [0.003391],\n",
              "       [0.003462],\n",
              "       [0.003483],\n",
              "       [0.00357 ],\n",
              "       [0.003535],\n",
              "       [0.003535],\n",
              "       [0.003589],\n",
              "       [0.003477],\n",
              "       [0.003419],\n",
              "       [0.003441],\n",
              "       [0.003376],\n",
              "       [0.003437],\n",
              "       [0.003397],\n",
              "       [0.003409],\n",
              "       [0.003282],\n",
              "       [0.003288],\n",
              "       [0.003205],\n",
              "       [0.003263],\n",
              "       [0.003276],\n",
              "       [0.00344 ],\n",
              "       [0.003559],\n",
              "       [0.003327],\n",
              "       [0.003369],\n",
              "       [0.003433],\n",
              "       [0.003285],\n",
              "       [0.003391],\n",
              "       [0.003388],\n",
              "       [0.003333],\n",
              "       [0.003176],\n",
              "       [0.003158],\n",
              "       [0.003109],\n",
              "       [0.003076],\n",
              "       [0.003164],\n",
              "       [0.003259],\n",
              "       [0.003226],\n",
              "       [0.003203],\n",
              "       [0.003419],\n",
              "       [0.003723],\n",
              "       [0.003862],\n",
              "       [0.003919],\n",
              "       [0.004645],\n",
              "       [0.004777],\n",
              "       [0.004515],\n",
              "       [0.003764],\n",
              "       [0.004573],\n",
              "       [0.004558],\n",
              "       [0.004511],\n",
              "       [0.004549],\n",
              "       [0.004594],\n",
              "       [0.004488],\n",
              "       [0.028199],\n",
              "       [0.036826],\n",
              "       [0.034784],\n",
              "       [0.031297],\n",
              "       [0.03734 ],\n",
              "       [0.052933],\n",
              "       [0.046788],\n",
              "       [0.057506],\n",
              "       [0.077936],\n",
              "       [0.078782],\n",
              "       [0.070015],\n",
              "       [0.07258 ],\n",
              "       [0.06978 ],\n",
              "       [0.069815],\n",
              "       [0.066244],\n",
              "       [0.062639],\n",
              "       [0.056427],\n",
              "       [0.053513],\n",
              "       [0.049469],\n",
              "       [0.059117],\n",
              "       [0.055044],\n",
              "       [0.054196],\n",
              "       [0.056136],\n",
              "       [0.053537],\n",
              "       [0.047663],\n",
              "       [0.056663],\n",
              "       [0.049909],\n",
              "       [0.050466],\n",
              "       [0.004626],\n",
              "       [0.004666],\n",
              "       [0.005667],\n",
              "       [0.010493],\n",
              "       [0.009845],\n",
              "       [0.009784],\n",
              "       [0.00996 ],\n",
              "       [0.010443],\n",
              "       [0.009728],\n",
              "       [0.009753],\n",
              "       [0.010159],\n",
              "       [0.009829],\n",
              "       [0.008824],\n",
              "       [0.008068],\n",
              "       [0.008672],\n",
              "       [0.009398],\n",
              "       [0.00937 ],\n",
              "       [0.009235],\n",
              "       [0.009094],\n",
              "       [0.009173],\n",
              "       [0.00905 ],\n",
              "       [0.009055],\n",
              "       [0.008167],\n",
              "       [0.008516],\n",
              "       [0.008571],\n",
              "       [0.008714],\n",
              "       [0.008349],\n",
              "       [0.008244],\n",
              "       [0.007415],\n",
              "       [0.036085],\n",
              "       [0.045859],\n",
              "       [0.002305],\n",
              "       [0.002314],\n",
              "       [0.002327],\n",
              "       [0.002322],\n",
              "       [0.002322],\n",
              "       [0.002306],\n",
              "       [0.002301],\n",
              "       [0.002618],\n",
              "       [0.003121],\n",
              "       [0.004743],\n",
              "       [0.004331],\n",
              "       [0.003524],\n",
              "       [0.003808],\n",
              "       [0.003635],\n",
              "       [0.00316 ],\n",
              "       [0.003294],\n",
              "       [0.003094],\n",
              "       [0.002981],\n",
              "       [0.003055],\n",
              "       [0.003455],\n",
              "       [0.003381],\n",
              "       [0.003226],\n",
              "       [0.0033  ],\n",
              "       [0.003289],\n",
              "       [0.003298],\n",
              "       [0.003215],\n",
              "       [0.003252],\n",
              "       [0.003237],\n",
              "       [0.003167],\n",
              "       [0.003198],\n",
              "       [0.003171],\n",
              "       [0.002616],\n",
              "       [0.002573],\n",
              "       [0.002647],\n",
              "       [0.002575],\n",
              "       [0.002594],\n",
              "       [0.002632],\n",
              "       [0.002588],\n",
              "       [0.002587],\n",
              "       [0.002607],\n",
              "       [0.002585],\n",
              "       [0.002562],\n",
              "       [0.002585],\n",
              "       [0.002456],\n",
              "       [0.002523],\n",
              "       [0.002532],\n",
              "       [0.002482],\n",
              "       [0.002477],\n",
              "       [0.002485],\n",
              "       [0.002481],\n",
              "       [0.002454],\n",
              "       [0.002453],\n",
              "       [0.002458],\n",
              "       [0.002449],\n",
              "       [0.002472],\n",
              "       [0.002473],\n",
              "       [0.002425],\n",
              "       [0.002408],\n",
              "       [0.002358],\n",
              "       [0.002324],\n",
              "       [0.002315],\n",
              "       [0.050076],\n",
              "       [0.048134],\n",
              "       [0.050582],\n",
              "       [0.050343],\n",
              "       [0.050469],\n",
              "       [0.049925],\n",
              "       [0.049523],\n",
              "       [0.050924],\n",
              "       [0.051888],\n",
              "       [0.062851],\n",
              "       [0.0579  ],\n",
              "       [0.055877],\n",
              "       [0.055896],\n",
              "       [0.055238],\n",
              "       [0.062676],\n",
              "       [0.058429],\n",
              "       [0.056968],\n",
              "       [0.058606],\n",
              "       [0.057878],\n",
              "       [0.05729 ],\n",
              "       [0.058263],\n",
              "       [0.058829],\n",
              "       [0.057475],\n",
              "       [0.054913],\n",
              "       [0.053431],\n",
              "       [0.051501],\n",
              "       [0.051249],\n",
              "       [0.053976],\n",
              "       [0.054436],\n",
              "       [0.053641],\n",
              "       [0.054122],\n",
              "       [0.303226],\n",
              "       [0.336657],\n",
              "       [0.390686],\n",
              "       [0.372467],\n",
              "       [0.438349],\n",
              "       [0.559521],\n",
              "       [0.653501],\n",
              "       [0.579819],\n",
              "       [0.686914],\n",
              "       [0.63533 ],\n",
              "       [0.568689],\n",
              "       [0.449956],\n",
              "       [0.      ],\n",
              "       [0.493226],\n",
              "       [0.002461],\n",
              "       [0.00252 ],\n",
              "       [0.002575],\n",
              "       [0.002492],\n",
              "       [0.002512],\n",
              "       [0.00253 ],\n",
              "       [0.002537],\n",
              "       [0.002543],\n",
              "       [0.002517],\n",
              "       [0.0025  ],\n",
              "       [0.002538],\n",
              "       [0.002538],\n",
              "       [0.002476],\n",
              "       [0.002537],\n",
              "       [0.002506],\n",
              "       [0.002511],\n",
              "       [0.002532],\n",
              "       [0.002528],\n",
              "       [0.002583],\n",
              "       [0.002569],\n",
              "       [0.002576],\n",
              "       [0.002513],\n",
              "       [0.002517],\n",
              "       [0.002546],\n",
              "       [0.002639],\n",
              "       [0.002757],\n",
              "       [0.00267 ],\n",
              "       [0.002707],\n",
              "       [0.002671],\n",
              "       [0.00276 ],\n",
              "       [0.002757],\n",
              "       [0.002774],\n",
              "       [0.002811],\n",
              "       [0.002766],\n",
              "       [0.002773],\n",
              "       [0.002879],\n",
              "       [0.002935],\n",
              "       [0.002908],\n",
              "       [0.002906],\n",
              "       [0.002987],\n",
              "       [0.00351 ],\n",
              "       [0.00334 ],\n",
              "       [0.003682],\n",
              "       [0.004232],\n",
              "       [0.003716],\n",
              "       [0.003251],\n",
              "       [0.00327 ],\n",
              "       [0.003393],\n",
              "       [0.002673],\n",
              "       [0.002634],\n",
              "       [0.002625],\n",
              "       [0.00259 ],\n",
              "       [0.002599],\n",
              "       [0.002638],\n",
              "       [0.002622],\n",
              "       [0.002599],\n",
              "       [0.002594],\n",
              "       [0.002605],\n",
              "       [0.002657],\n",
              "       [0.002666],\n",
              "       [0.002681],\n",
              "       [0.002669],\n",
              "       [0.002637],\n",
              "       [0.002638],\n",
              "       [0.002601],\n",
              "       [0.002604],\n",
              "       [0.002585],\n",
              "       [0.002592],\n",
              "       [0.002592],\n",
              "       [0.002595],\n",
              "       [0.002624],\n",
              "       [0.002647],\n",
              "       [0.002644],\n",
              "       [0.002634],\n",
              "       [0.002651],\n",
              "       [0.002666],\n",
              "       [0.002674],\n",
              "       [0.002583],\n",
              "       [0.002576],\n",
              "       [0.003297],\n",
              "       [0.00321 ],\n",
              "       [0.003242],\n",
              "       [0.003115],\n",
              "       [0.002764],\n",
              "       [0.002877],\n",
              "       [0.00276 ],\n",
              "       [0.002783],\n",
              "       [0.002815],\n",
              "       [0.002745],\n",
              "       [0.00278 ],\n",
              "       [0.002805],\n",
              "       [0.002796],\n",
              "       [0.002815],\n",
              "       [0.002783],\n",
              "       [0.00279 ],\n",
              "       [0.002829],\n",
              "       [0.002793],\n",
              "       [0.002807],\n",
              "       [0.002788],\n",
              "       [0.002792],\n",
              "       [0.002774],\n",
              "       [0.0026  ],\n",
              "       [0.002643],\n",
              "       [0.00255 ],\n",
              "       [0.002631],\n",
              "       [0.002713],\n",
              "       [0.002697],\n",
              "       [0.002697],\n",
              "       [0.002648]])"
            ]
          },
          "metadata": {
            "tags": []
          },
          "execution_count": 17
        }
      ]
    },
    {
      "cell_type": "code",
      "metadata": {
        "id": "Qo34vQ8oPEom"
      },
      "source": [
        "X=X[:len(data)-prediction_days-1]"
      ],
      "execution_count": 18,
      "outputs": []
    },
    {
      "cell_type": "code",
      "metadata": {
        "id": "fPaM40vtyCc5"
      },
      "source": [
        "y=np.array(data['Prediction'])\n",
        "y=y[:-prediction_days-1]"
      ],
      "execution_count": 19,
      "outputs": []
    },
    {
      "cell_type": "markdown",
      "metadata": {
        "id": "B5HmIqeylB7k"
      },
      "source": [
        "##Model RandomForestRegressor"
      ]
    },
    {
      "cell_type": "code",
      "metadata": {
        "id": "MvIIAeOWQf1f"
      },
      "source": [
        "np.random.seed(100100)\n",
        "from sklearn.model_selection import train_test_split\n",
        "x_train,x_test,y_train,y_test=train_test_split(X,y,test_size=0.2)"
      ],
      "execution_count": 20,
      "outputs": []
    },
    {
      "cell_type": "code",
      "metadata": {
        "colab": {
          "base_uri": "https://localhost:8080/"
        },
        "id": "GQSiyclNQ-TS",
        "outputId": "75696f7a-0477-47fe-dc9d-c866a74b8db6"
      },
      "source": [
        "from sklearn.ensemble import RandomForestRegressor\n",
        "forest=RandomForestRegressor(n_estimators=600,random_state=700,max_depth=50)\n",
        "forest.fit(x_train,y_train)"
      ],
      "execution_count": 21,
      "outputs": [
        {
          "output_type": "execute_result",
          "data": {
            "text/plain": [
              "RandomForestRegressor(max_depth=50, n_estimators=600, random_state=700)"
            ]
          },
          "metadata": {
            "tags": []
          },
          "execution_count": 21
        }
      ]
    },
    {
      "cell_type": "code",
      "metadata": {
        "colab": {
          "base_uri": "https://localhost:8080/"
        },
        "id": "UttIoCHrSqMO",
        "outputId": "58c59962-772a-4d4a-e58b-fd5c0928dc3f"
      },
      "source": [
        "#Checking the accuracy of the model\n",
        "forest.score(x_test,y_test)"
      ],
      "execution_count": 22,
      "outputs": [
        {
          "output_type": "execute_result",
          "data": {
            "text/plain": [
              "0.9403469167972336"
            ]
          },
          "metadata": {
            "tags": []
          },
          "execution_count": 22
        }
      ]
    },
    {
      "cell_type": "markdown",
      "metadata": {
        "id": "DPHT0-hilexo"
      },
      "source": [
        "## Validating Model"
      ]
    },
    {
      "cell_type": "code",
      "metadata": {
        "id": "JgMOGtscUBrH"
      },
      "source": [
        "temp_data=data[:-prediction_days]"
      ],
      "execution_count": 23,
      "outputs": []
    },
    {
      "cell_type": "code",
      "metadata": {
        "colab": {
          "base_uri": "https://localhost:8080/"
        },
        "id": "Ep0veGQKVMnB",
        "outputId": "e67e11d1-35f1-4cba-978a-d717c018fa78"
      },
      "source": [
        "x_val=temp_data.tail(1)['Close'][0]\n",
        "x_val"
      ],
      "execution_count": 24,
      "outputs": [
        {
          "output_type": "execute_result",
          "data": {
            "text/plain": [
              "0.0026969999999999997"
            ]
          },
          "metadata": {
            "tags": []
          },
          "execution_count": 24
        }
      ]
    },
    {
      "cell_type": "code",
      "metadata": {
        "colab": {
          "base_uri": "https://localhost:8080/"
        },
        "id": "J_vyIUuFVlyy",
        "outputId": "389cf5f3-880b-4d94-9377-5679d45c4df4"
      },
      "source": [
        "pred=forest.predict([[x_val]])\n",
        "pred"
      ],
      "execution_count": 25,
      "outputs": [
        {
          "output_type": "execute_result",
          "data": {
            "text/plain": [
              "array([0.00268927])"
            ]
          },
          "metadata": {
            "tags": []
          },
          "execution_count": 25
        }
      ]
    },
    {
      "cell_type": "code",
      "metadata": {
        "colab": {
          "base_uri": "https://localhost:8080/"
        },
        "id": "SfKvUGxdmYk6",
        "outputId": "6f86a724-bc89-4f30-824b-05e1130e6cb8"
      },
      "source": [
        "print(\"The Predicted value of Dogecoin is\",pred)\n",
        "print('The Actual value was',temp_data.tail(1)['Prediction'][0])"
      ],
      "execution_count": 26,
      "outputs": [
        {
          "output_type": "stream",
          "text": [
            "The Predicted value of Dogecoin is [0.00268927]\n",
            "The Actual value was 0.002648\n"
          ],
          "name": "stdout"
        }
      ]
    },
    {
      "cell_type": "markdown",
      "metadata": {
        "id": "jtHPLNiUn6Nw"
      },
      "source": [
        "##Summary with  Adjusted R-Squared,R-Squared and RMSE value"
      ]
    },
    {
      "cell_type": "code",
      "metadata": {
        "id": "gqxfVkUeVnQb",
        "colab": {
          "base_uri": "https://localhost:8080/"
        },
        "outputId": "920fea88-50c9-45b2-bc54-8ae858b9eedb"
      },
      "source": [
        "!pip install lazypredict\n",
        "import lazypredict\n",
        "from lazypredict.Supervised import LazyRegressor\n",
        "reg = LazyRegressor(verbose=0, ignore_warnings=False, custom_metric=None)\n"
      ],
      "execution_count": 27,
      "outputs": [
        {
          "output_type": "stream",
          "text": [
            "Requirement already satisfied: lazypredict in /usr/local/lib/python3.7/dist-packages (0.2.9)\n",
            "Requirement already satisfied: scikit-learn==0.23.1 in /usr/local/lib/python3.7/dist-packages (from lazypredict) (0.23.1)\n",
            "Requirement already satisfied: click==7.1.2 in /usr/local/lib/python3.7/dist-packages (from lazypredict) (7.1.2)\n",
            "Requirement already satisfied: six==1.15.0 in /usr/local/lib/python3.7/dist-packages (from lazypredict) (1.15.0)\n",
            "Requirement already satisfied: lightgbm==2.3.1 in /usr/local/lib/python3.7/dist-packages (from lazypredict) (2.3.1)\n",
            "Requirement already satisfied: joblib==1.0.0 in /usr/local/lib/python3.7/dist-packages (from lazypredict) (1.0.0)\n",
            "Requirement already satisfied: PyYAML==5.3.1 in /usr/local/lib/python3.7/dist-packages (from lazypredict) (5.3.1)\n",
            "Requirement already satisfied: tqdm==4.56.0 in /usr/local/lib/python3.7/dist-packages (from lazypredict) (4.56.0)\n",
            "Requirement already satisfied: scipy==1.5.4 in /usr/local/lib/python3.7/dist-packages (from lazypredict) (1.5.4)\n",
            "Requirement already satisfied: pytest==5.4.3 in /usr/local/lib/python3.7/dist-packages (from lazypredict) (5.4.3)\n",
            "Requirement already satisfied: xgboost==1.1.1 in /usr/local/lib/python3.7/dist-packages (from lazypredict) (1.1.1)\n",
            "Requirement already satisfied: pandas==1.0.5 in /usr/local/lib/python3.7/dist-packages (from lazypredict) (1.0.5)\n",
            "Requirement already satisfied: numpy==1.19.1 in /usr/local/lib/python3.7/dist-packages (from lazypredict) (1.19.1)\n",
            "Requirement already satisfied: threadpoolctl>=2.0.0 in /usr/local/lib/python3.7/dist-packages (from scikit-learn==0.23.1->lazypredict) (2.1.0)\n",
            "Requirement already satisfied: py>=1.5.0 in /usr/local/lib/python3.7/dist-packages (from pytest==5.4.3->lazypredict) (1.10.0)\n",
            "Requirement already satisfied: importlib-metadata>=0.12; python_version < \"3.8\" in /usr/local/lib/python3.7/dist-packages (from pytest==5.4.3->lazypredict) (4.0.1)\n",
            "Requirement already satisfied: pluggy<1.0,>=0.12 in /usr/local/lib/python3.7/dist-packages (from pytest==5.4.3->lazypredict) (0.13.1)\n",
            "Requirement already satisfied: packaging in /usr/local/lib/python3.7/dist-packages (from pytest==5.4.3->lazypredict) (20.9)\n",
            "Requirement already satisfied: wcwidth in /usr/local/lib/python3.7/dist-packages (from pytest==5.4.3->lazypredict) (0.2.5)\n",
            "Requirement already satisfied: more-itertools>=4.0.0 in /usr/local/lib/python3.7/dist-packages (from pytest==5.4.3->lazypredict) (8.7.0)\n",
            "Requirement already satisfied: attrs>=17.4.0 in /usr/local/lib/python3.7/dist-packages (from pytest==5.4.3->lazypredict) (21.2.0)\n",
            "Requirement already satisfied: python-dateutil>=2.6.1 in /usr/local/lib/python3.7/dist-packages (from pandas==1.0.5->lazypredict) (2.8.1)\n",
            "Requirement already satisfied: pytz>=2017.2 in /usr/local/lib/python3.7/dist-packages (from pandas==1.0.5->lazypredict) (2018.9)\n",
            "Requirement already satisfied: typing-extensions>=3.6.4; python_version < \"3.8\" in /usr/local/lib/python3.7/dist-packages (from importlib-metadata>=0.12; python_version < \"3.8\"->pytest==5.4.3->lazypredict) (3.7.4.3)\n",
            "Requirement already satisfied: zipp>=0.5 in /usr/local/lib/python3.7/dist-packages (from importlib-metadata>=0.12; python_version < \"3.8\"->pytest==5.4.3->lazypredict) (3.4.1)\n",
            "Requirement already satisfied: pyparsing>=2.0.2 in /usr/local/lib/python3.7/dist-packages (from packaging->pytest==5.4.3->lazypredict) (2.4.7)\n"
          ],
          "name": "stdout"
        },
        {
          "output_type": "stream",
          "text": [
            "/usr/local/lib/python3.7/dist-packages/sklearn/utils/deprecation.py:143: FutureWarning: The sklearn.utils.testing module is  deprecated in version 0.22 and will be removed in version 0.24. The corresponding classes / functions should instead be imported from sklearn.utils. Anything that cannot be imported from sklearn.utils is now part of the private API.\n",
            "  warnings.warn(message, FutureWarning)\n"
          ],
          "name": "stderr"
        }
      ]
    },
    {
      "cell_type": "code",
      "metadata": {
        "colab": {
          "base_uri": "https://localhost:8080/"
        },
        "id": "tRcOMwTAbHLQ",
        "outputId": "1ea5f6dc-7019-4c75-be42-65e60091dc4a"
      },
      "source": [
        "models, predictions = reg.fit(x_train, x_test, y_train, y_test)\n",
        "\n",
        "print(models)"
      ],
      "execution_count": 28,
      "outputs": [
        {
          "output_type": "stream",
          "text": [
            " 26%|██▌       | 11/42 [00:00<00:01, 26.16it/s]"
          ],
          "name": "stderr"
        },
        {
          "output_type": "stream",
          "text": [
            "GammaRegressor model failed to execute\n",
            "Some value(s) of y are out of the valid range for family GammaDistribution\n"
          ],
          "name": "stdout"
        },
        {
          "output_type": "stream",
          "text": [
            " 71%|███████▏  | 30/42 [00:01<00:00, 22.53it/s]"
          ],
          "name": "stderr"
        },
        {
          "output_type": "stream",
          "text": [
            "OrthogonalMatchingPursuitCV model failed to execute\n",
            "Found array with 1 feature(s) (shape=(291, 1)) while a minimum of 2 is required by OrthogonalMatchingPursuitCV.\n"
          ],
          "name": "stdout"
        },
        {
          "output_type": "stream",
          "text": [
            "100%|██████████| 42/42 [00:02<00:00, 18.25it/s]"
          ],
          "name": "stderr"
        },
        {
          "output_type": "stream",
          "text": [
            "                               Adjusted R-Squared  R-Squared  RMSE  Time Taken\n",
            "Model                                                                         \n",
            "BaggingRegressor                             0.96       0.96  0.03        0.03\n",
            "GradientBoostingRegressor                    0.95       0.95  0.03        0.11\n",
            "RandomForestRegressor                        0.95       0.95  0.03        0.23\n",
            "XGBRegressor                                 0.95       0.95  0.03        0.30\n",
            "DecisionTreeRegressor                        0.95       0.95  0.03        0.02\n",
            "ExtraTreesRegressor                          0.92       0.92  0.04        0.14\n",
            "AdaBoostRegressor                            0.90       0.91  0.04        0.09\n",
            "NuSVR                                        0.90       0.90  0.04        0.09\n",
            "SGDRegressor                                 0.82       0.82  0.06        0.01\n",
            "ElasticNetCV                                 0.82       0.82  0.06        0.06\n",
            "LassoCV                                      0.82       0.82  0.06        0.11\n",
            "Ridge                                        0.82       0.82  0.06        0.01\n",
            "RidgeCV                                      0.82       0.82  0.06        0.01\n",
            "BayesianRidge                                0.82       0.82  0.06        0.01\n",
            "TransformedTargetRegressor                   0.82       0.82  0.06        0.01\n",
            "LinearRegression                             0.82       0.82  0.06        0.01\n",
            "OrthogonalMatchingPursuit                    0.82       0.82  0.06        0.01\n",
            "Lars                                         0.82       0.82  0.06        0.02\n",
            "LarsCV                                       0.82       0.82  0.06        0.04\n",
            "LassoLarsCV                                  0.82       0.82  0.06        0.02\n",
            "LassoLarsIC                                  0.82       0.82  0.06        0.01\n",
            "LinearSVR                                    0.81       0.82  0.06        0.02\n",
            "RANSACRegressor                              0.81       0.81  0.06        0.02\n",
            "HuberRegressor                               0.81       0.81  0.06        0.02\n",
            "ExtraTreeRegressor                           0.81       0.81  0.06        0.01\n",
            "KNeighborsRegressor                          0.79       0.79  0.06        0.01\n",
            "KernelRidge                                  0.75       0.75  0.07        0.02\n",
            "MLPRegressor                                 0.71       0.72  0.07        0.14\n",
            "HistGradientBoostingRegressor                0.71       0.71  0.07        0.16\n",
            "LGBMRegressor                                0.71       0.71  0.07        0.27\n",
            "GeneralizedLinearRegressor                   0.63       0.64  0.08        0.03\n",
            "TweedieRegressor                             0.63       0.64  0.08        0.01\n",
            "PassiveAggressiveRegressor                   0.63       0.63  0.08        0.03\n",
            "SVR                                          0.46       0.47  0.10        0.01\n",
            "PoissonRegressor                             0.07       0.09  0.13        0.01\n",
            "Lasso                                       -0.01      -0.00  0.14        0.04\n",
            "ElasticNet                                  -0.01      -0.00  0.14        0.01\n",
            "DummyRegressor                              -0.01      -0.00  0.14        0.01\n",
            "LassoLars                                   -0.01      -0.00  0.14        0.02\n",
            "GaussianProcessRegressor               -179456.60 -176964.13 56.93        0.03\n"
          ],
          "name": "stdout"
        },
        {
          "output_type": "stream",
          "text": [
            "\n"
          ],
          "name": "stderr"
        }
      ]
    },
    {
      "cell_type": "markdown",
      "metadata": {
        "id": "thJr51QMoLSi"
      },
      "source": [
        "####We observe that DecisionTreeRegressor Model has a value of Adjusted R-Squared , R-Squared and RMSE as 0.95 , 0.95 and 0.03 respectively"
      ]
    }
  ]
}